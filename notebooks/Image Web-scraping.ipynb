{
 "cells": [
  {
   "cell_type": "code",
   "execution_count": 2,
   "id": "ecce9a45",
   "metadata": {},
   "outputs": [],
   "source": [
    "# IMPORTS\n",
    "\n",
    "import pandas as pd\n",
    "import urllib.request as urllib\n",
    "from bs4 import BeautifulSoup\n",
    "\n",
    "\n",
    "import os\n",
    "import numpy as np\n",
    "import matplotlib.pyplot as plt\n",
    "import seaborn as sns\n",
    "sns.set_style('darkgrid')\n",
    "sns.set_palette(sns.diverging_palette(220, 20, n=7))\n",
    "%matplotlib inline\n",
    "import time\n",
    "import random"
   ]
  },
  {
   "cell_type": "code",
   "execution_count": 3,
   "id": "6c677321",
   "metadata": {},
   "outputs": [],
   "source": [
    "import os\n",
    "\n",
    "def Test():\n",
    "    main_dir = [\"FolderA\", \"FolderB\"] \n",
    "    common_dir = [\"SubFolder1\", \"SubFolder2\", \"SubFolder3\"]\n",
    "\n",
    "    for dir1 in main_dir:\n",
    "        for dir2 in common_dir:\n",
    "            try: os.makedirs(os.path.join(dir1,dir2))\n",
    "            except OSError: pass"
   ]
  },
  {
   "cell_type": "code",
   "execution_count": 4,
   "id": "ee55ebd5",
   "metadata": {},
   "outputs": [],
   "source": [
    "# os.makedirs('New Folder')\n",
    "# os.makedirs(os.path.join('New Folder', 'Newer Folder'))"
   ]
  },
  {
   "cell_type": "code",
   "execution_count": 5,
   "id": "ad79d7cf",
   "metadata": {},
   "outputs": [],
   "source": [
    "def get_soup(url):\n",
    "    \n",
    "    # Open the target category page\n",
    "    html = urllib.urlopen(url)\n",
    "    \n",
    "    # Create a BeautifulSoup object after the HTML page is read\n",
    "    soup = BeautifulSoup(html.read())\n",
    "\n",
    "    # Close the urllib connection to avoid issues with the website\n",
    "    html.close()\n",
    "    \n",
    "    return soup"
   ]
  },
  {
   "cell_type": "code",
   "execution_count": 6,
   "id": "459a760f",
   "metadata": {},
   "outputs": [
    {
     "name": "stdout",
     "output_type": "stream",
     "text": [
      "98\n"
     ]
    },
    {
     "data": {
      "text/plain": "       Brand        Type                                          Image_URL\n0   Spalding  Basketball  https://www.spalding.com/dw/image/v2/ABAH_PRD/...\n1   Spalding  Basketball  https://www.spalding.com/dw/image/v2/ABAH_PRD/...\n2   Spalding  Basketball  https://www.spalding.com/dw/image/v2/ABAH_PRD/...\n3   Spalding  Basketball  https://www.spalding.com/dw/image/v2/ABAH_PRD/...\n4   Spalding  Basketball  https://www.spalding.com/dw/image/v2/ABAH_PRD/...\n..       ...         ...                                                ...\n93   Victeam  Basketball  https://www.victeamsports.com/wp-content/uploa...\n94   Victeam  Basketball  https://www.victeamsports.com/wp-content/uploa...\n95   Victeam  Basketball  https://www.victeamsports.com/wp-content/uploa...\n96   Victeam  Basketball  https://www.victeamsports.com/wp-content/uploa...\n97   Victeam  Basketball  https://www.victeamsports.com/wp-content/uploa...\n\n[98 rows x 3 columns]",
      "text/html": "<div>\n<style scoped>\n    .dataframe tbody tr th:only-of-type {\n        vertical-align: middle;\n    }\n\n    .dataframe tbody tr th {\n        vertical-align: top;\n    }\n\n    .dataframe thead th {\n        text-align: right;\n    }\n</style>\n<table border=\"1\" class=\"dataframe\">\n  <thead>\n    <tr style=\"text-align: right;\">\n      <th></th>\n      <th>Brand</th>\n      <th>Type</th>\n      <th>Image_URL</th>\n    </tr>\n  </thead>\n  <tbody>\n    <tr>\n      <th>0</th>\n      <td>Spalding</td>\n      <td>Basketball</td>\n      <td>https://www.spalding.com/dw/image/v2/ABAH_PRD/...</td>\n    </tr>\n    <tr>\n      <th>1</th>\n      <td>Spalding</td>\n      <td>Basketball</td>\n      <td>https://www.spalding.com/dw/image/v2/ABAH_PRD/...</td>\n    </tr>\n    <tr>\n      <th>2</th>\n      <td>Spalding</td>\n      <td>Basketball</td>\n      <td>https://www.spalding.com/dw/image/v2/ABAH_PRD/...</td>\n    </tr>\n    <tr>\n      <th>3</th>\n      <td>Spalding</td>\n      <td>Basketball</td>\n      <td>https://www.spalding.com/dw/image/v2/ABAH_PRD/...</td>\n    </tr>\n    <tr>\n      <th>4</th>\n      <td>Spalding</td>\n      <td>Basketball</td>\n      <td>https://www.spalding.com/dw/image/v2/ABAH_PRD/...</td>\n    </tr>\n    <tr>\n      <th>...</th>\n      <td>...</td>\n      <td>...</td>\n      <td>...</td>\n    </tr>\n    <tr>\n      <th>93</th>\n      <td>Victeam</td>\n      <td>Basketball</td>\n      <td>https://www.victeamsports.com/wp-content/uploa...</td>\n    </tr>\n    <tr>\n      <th>94</th>\n      <td>Victeam</td>\n      <td>Basketball</td>\n      <td>https://www.victeamsports.com/wp-content/uploa...</td>\n    </tr>\n    <tr>\n      <th>95</th>\n      <td>Victeam</td>\n      <td>Basketball</td>\n      <td>https://www.victeamsports.com/wp-content/uploa...</td>\n    </tr>\n    <tr>\n      <th>96</th>\n      <td>Victeam</td>\n      <td>Basketball</td>\n      <td>https://www.victeamsports.com/wp-content/uploa...</td>\n    </tr>\n    <tr>\n      <th>97</th>\n      <td>Victeam</td>\n      <td>Basketball</td>\n      <td>https://www.victeamsports.com/wp-content/uploa...</td>\n    </tr>\n  </tbody>\n</table>\n<p>98 rows × 3 columns</p>\n</div>"
     },
     "execution_count": 6,
     "metadata": {},
     "output_type": "execute_result"
    }
   ],
   "source": [
    "# Create the DataFrame and populate it with Data\n",
    "\n",
    "\n",
    "'''\n",
    "https://www.spalding.com/basketball/basketballs/?srule=product-name-ascending&start=0&sz=36\n",
    "https://www.wilson.com/en-us/basketball/basketballs/shopby/size_7_off   + ?p=1 (2 or 3)\n",
    "https://www.victeamsports.com/product-categories/basketballs/?product-page=1 (2 or 3)\n",
    "\n",
    "\n",
    "https://www.victeamsports.com/product-categories/soccer-balls/?product-page=1 (goes thru 6)\n",
    "\n",
    "'''\n",
    "\n",
    "target_url = 'https://www.spalding.com/basketball/basketballs/?srule=product-name-ascending&start=0&sz=36'\n",
    "df = pd.DataFrame(columns = ['Brand', 'Type', 'Image_URL'])\n",
    "\n",
    "soup = get_soup(target_url)\n",
    "\n",
    "# SPALDING SCRAPING\n",
    "    \n",
    "products = soup.find_all('a', class_='image-anchor d-none d-sm-block')\n",
    "\n",
    "url_count = 0\n",
    "\n",
    "for count, product in enumerate(products):\n",
    "#     if product.has_attr('href'):\n",
    "#         print(product['href'])\n",
    "    img_urls = product.find_all('img')\n",
    "    \n",
    "    for img_url in img_urls:\n",
    "        if img_url.has_attr('src'):\n",
    "            url = img_url['src']\n",
    "            temp_dict = {'Brand': 'Spalding', 'Type': 'Basketball', 'Image_URL': url}\n",
    "            df = df.append(temp_dict, ignore_index=True)\n",
    "#             print(url)\n",
    "            url_count+=1\n",
    "        \n",
    "        \n",
    "# print(url_count)\n",
    "# df\n",
    "  \n",
    "target_url = 'https://www.victeamsports.com/product-categories/basketballs/?product-page='\n",
    "for i in range(1,4):\n",
    "    t_url = f'{target_url}{i}'\n",
    "    soup = get_soup(t_url)\n",
    "    products = soup.find_all('div', class_='fusion-image-wrapper fusion-image-size-fixed')\n",
    "\n",
    "    for count, product in enumerate(products):\n",
    "#     if product.has_attr('href'):\n",
    "#         print(product['href'])\n",
    "        img_url = product.find('img')\n",
    "    \n",
    "        if img_url.has_attr('src'):\n",
    "            url = img_url['src']\n",
    "            temp_dict = {'Brand': 'Victeam', 'Type' : 'Basketball', 'Image_URL': url}\n",
    "            df = df.append(temp_dict, ignore_index=True)\n",
    "#             print(url)\n",
    "            url_count+=1\n",
    "    time.sleep(random.randint(2,5))\n",
    "print(url_count)\n",
    "df\n",
    "        \n",
    "        \n",
    "#     info = listing.find('div', class_='list-search-property-tile-info-container')\n",
    "#             title = info.find('a').get_text()\n",
    "#     #         print(title)\n",
    "#             price = info.find('span', class_='list-search-rent-label').get_text().strip().split()[0]\n",
    "#     #         print(price)\n",
    "#             try:\n",
    "#                 distance = info.find('div',\n",
    "#                                      class_='list-search-property-tile-distance').find('span').get_text().split()[0]\n",
    "#             except AttributeError:\n",
    "#                 distance = 100\n",
    "#     #         print(distance)\n",
    "#             url = info.find('a').get('href')\n",
    "#     #         print(url)\n",
    "#     #         print(type(info))\n",
    "#             # Create a temporary dictionary to store the information of the current post\n",
    "#             temp_dict = {\"Title\": title, \"Price\": price, \n",
    "#                \"Mins from Campus\": distance, \"URL\": url}\n",
    "\n",
    "#             # Append the current post's information to the df DataFrame to create its respective row\n",
    "#             df = df.append(temp_dict, ignore_index=True)\n",
    "#         else:\n",
    "#             break\n",
    "    \n",
    "#     # waits between 5 and 10 seconds before the next iteration to avoid being blocked by CL\n",
    "#     time.sleep(random.randint(5,10))\n",
    "    \n",
    "# CLEAN UP PRICE DATA\n",
    "    \n",
    "# # Remove unnecessary info\n",
    "# df['Price'] = df['Price'].map(lambda x : x[1:])\n",
    "# # Remove commas\n",
    "# df['Price'] = df['Price'].map(lambda x : x.replace(',', ''))\n",
    "# # Change Strings to ints\n",
    "# # df['Price'] = df['Price'].astype(int)\n",
    "# # df = df.sort_values(by=['Price'], ascending=False)\n",
    "# df"
   ]
  },
  {
   "cell_type": "code",
   "execution_count": 7,
   "id": "98a9c2ba",
   "metadata": {},
   "outputs": [],
   "source": [
    "target_url = 'https://www.victeamsports.com/product-categories/soccer-balls/?product-page='\n",
    "for i in range(1,7):\n",
    "    t_url = f'{target_url}{i}'\n",
    "    soup = get_soup(t_url)\n",
    "    products = soup.find_all('div', class_='fusion-image-wrapper fusion-image-size-fixed')\n",
    "\n",
    "    for count, product in enumerate(products):\n",
    "#     if product.has_attr('href'):\n",
    "#         print(product['href'])\n",
    "        img_url = product.find('img')\n",
    "    \n",
    "        if img_url.has_attr('src'):\n",
    "            url = img_url['src']\n",
    "            temp_dict = {'Brand': 'Victeam', 'Type' : 'Soccer', 'Image_URL': url}\n",
    "            df = df.append(temp_dict, ignore_index=True)\n",
    "    time.sleep(random.randint(2,5))"
   ]
  },
  {
   "cell_type": "code",
   "execution_count": 8,
   "id": "3a7f4786",
   "metadata": {},
   "outputs": [
    {
     "data": {
      "text/plain": "'https://www.victeamsports.com/wp-content/uploads/2020/10/Unmatched-soccer-ball-for-top-game-3-500x500.jpg'"
     },
     "execution_count": 8,
     "metadata": {},
     "output_type": "execute_result"
    }
   ],
   "source": [
    "df['Image_URL'][100]"
   ]
  },
  {
   "cell_type": "code",
   "execution_count": 12,
   "id": "bd4063ac",
   "metadata": {},
   "outputs": [
    {
     "data": {
      "text/plain": "        Brand        Type                                          Image_URL\n0    Spalding  Basketball  https://www.spalding.com/dw/image/v2/ABAH_PRD/...\n1    Spalding  Basketball  https://www.spalding.com/dw/image/v2/ABAH_PRD/...\n2    Spalding  Basketball  https://www.spalding.com/dw/image/v2/ABAH_PRD/...\n3    Spalding  Basketball  https://www.spalding.com/dw/image/v2/ABAH_PRD/...\n4    Spalding  Basketball  https://www.spalding.com/dw/image/v2/ABAH_PRD/...\n..        ...         ...                                                ...\n164   Victeam      Soccer  https://www.victeamsports.com/wp-content/uploa...\n165   Victeam      Soccer  https://www.victeamsports.com/wp-content/uploa...\n166   Victeam      Soccer  https://www.victeamsports.com/wp-content/uploa...\n167   Victeam      Soccer  https://www.victeamsports.com/wp-content/uploa...\n168   Victeam      Soccer  https://www.victeamsports.com/wp-content/uploa...\n\n[169 rows x 3 columns]",
      "text/html": "<div>\n<style scoped>\n    .dataframe tbody tr th:only-of-type {\n        vertical-align: middle;\n    }\n\n    .dataframe tbody tr th {\n        vertical-align: top;\n    }\n\n    .dataframe thead th {\n        text-align: right;\n    }\n</style>\n<table border=\"1\" class=\"dataframe\">\n  <thead>\n    <tr style=\"text-align: right;\">\n      <th></th>\n      <th>Brand</th>\n      <th>Type</th>\n      <th>Image_URL</th>\n    </tr>\n  </thead>\n  <tbody>\n    <tr>\n      <th>0</th>\n      <td>Spalding</td>\n      <td>Basketball</td>\n      <td>https://www.spalding.com/dw/image/v2/ABAH_PRD/...</td>\n    </tr>\n    <tr>\n      <th>1</th>\n      <td>Spalding</td>\n      <td>Basketball</td>\n      <td>https://www.spalding.com/dw/image/v2/ABAH_PRD/...</td>\n    </tr>\n    <tr>\n      <th>2</th>\n      <td>Spalding</td>\n      <td>Basketball</td>\n      <td>https://www.spalding.com/dw/image/v2/ABAH_PRD/...</td>\n    </tr>\n    <tr>\n      <th>3</th>\n      <td>Spalding</td>\n      <td>Basketball</td>\n      <td>https://www.spalding.com/dw/image/v2/ABAH_PRD/...</td>\n    </tr>\n    <tr>\n      <th>4</th>\n      <td>Spalding</td>\n      <td>Basketball</td>\n      <td>https://www.spalding.com/dw/image/v2/ABAH_PRD/...</td>\n    </tr>\n    <tr>\n      <th>...</th>\n      <td>...</td>\n      <td>...</td>\n      <td>...</td>\n    </tr>\n    <tr>\n      <th>164</th>\n      <td>Victeam</td>\n      <td>Soccer</td>\n      <td>https://www.victeamsports.com/wp-content/uploa...</td>\n    </tr>\n    <tr>\n      <th>165</th>\n      <td>Victeam</td>\n      <td>Soccer</td>\n      <td>https://www.victeamsports.com/wp-content/uploa...</td>\n    </tr>\n    <tr>\n      <th>166</th>\n      <td>Victeam</td>\n      <td>Soccer</td>\n      <td>https://www.victeamsports.com/wp-content/uploa...</td>\n    </tr>\n    <tr>\n      <th>167</th>\n      <td>Victeam</td>\n      <td>Soccer</td>\n      <td>https://www.victeamsports.com/wp-content/uploa...</td>\n    </tr>\n    <tr>\n      <th>168</th>\n      <td>Victeam</td>\n      <td>Soccer</td>\n      <td>https://www.victeamsports.com/wp-content/uploa...</td>\n    </tr>\n  </tbody>\n</table>\n<p>169 rows × 3 columns</p>\n</div>"
     },
     "execution_count": 12,
     "metadata": {},
     "output_type": "execute_result"
    }
   ],
   "source": [
    "df"
   ]
  },
  {
   "cell_type": "code",
   "execution_count": 14,
   "id": "f1846687",
   "metadata": {},
   "outputs": [],
   "source": [
    "info = df.groupby('Brand').describe()"
   ]
  },
  {
   "cell_type": "code",
   "execution_count": 10,
   "id": "643fa426",
   "metadata": {},
   "outputs": [],
   "source": [
    "\n",
    "\n"
   ]
  }
 ],
 "metadata": {
  "kernelspec": {
   "display_name": "Python 3",
   "language": "python",
   "name": "python3"
  },
  "language_info": {
   "codemirror_mode": {
    "name": "ipython",
    "version": 3
   },
   "file_extension": ".py",
   "mimetype": "text/x-python",
   "name": "python",
   "nbconvert_exporter": "python",
   "pygments_lexer": "ipython3",
   "version": "3.8.8"
  },
  "toc": {
   "base_numbering": 1,
   "nav_menu": {},
   "number_sections": true,
   "sideBar": true,
   "skip_h1_title": false,
   "title_cell": "Table of Contents",
   "title_sidebar": "Contents",
   "toc_cell": false,
   "toc_position": {},
   "toc_section_display": true,
   "toc_window_display": false
  }
 },
 "nbformat": 4,
 "nbformat_minor": 5
}